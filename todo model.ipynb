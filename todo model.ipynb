{
 "cells": [
  {
   "cell_type": "code",
   "execution_count": 1,
   "metadata": {},
   "outputs": [
    {
     "name": "stderr",
     "output_type": "stream",
     "text": [
      "Using TensorFlow backend.\n"
     ]
    }
   ],
   "source": [
    "import numpy\n",
    "import pandas\n",
    "from keras.models import Sequential\n",
    "from keras.layers import Dense\n",
    "from keras import optimizers\n",
    "from keras.wrappers.scikit_learn import KerasRegressor\n",
    "from sklearn.model_selection import cross_val_score\n",
    "from sklearn.model_selection import KFold\n",
    "from sklearn.preprocessing import StandardScaler\n",
    "from sklearn.pipeline import Pipeline\n",
    "import pickle"
   ]
  },
  {
   "cell_type": "code",
   "execution_count": 2,
   "metadata": {},
   "outputs": [],
   "source": [
    "df = pandas.read_excel('Data Set .xlsx')\n",
    "df = df.values"
   ]
  },
  {
   "cell_type": "code",
   "execution_count": 3,
   "metadata": {},
   "outputs": [],
   "source": [
    "Z = df[:,29]\n",
    "A = []\n",
    "for i in Z:\n",
    "    i = str(i)\n",
    "    A.append(i)\n",
    "B = []\n",
    "for i in A:\n",
    "    i = i.replace(\"-\", \"\")\n",
    "    B.append(i)\n",
    "C = []\n",
    "for i in B:\n",
    "    i = i.replace(\":\", \"\")\n",
    "    C.append(i)\n",
    "D = []\n",
    "for i in C:\n",
    "    i = i.replace(\" \", \"\")\n",
    "    D.append(i)\n",
    "E = []\n",
    "for i in D:\n",
    "    i = int(i) / 1000000\n",
    "    E.append(i)\n",
    "X = numpy.asarray(E)\n",
    "X = numpy.reshape(X, (-1,1))\n",
    "Y = df[:,0:29]\n",
    "#normaliazing data\n",
    "X -= X.mean(axis=0)\n",
    "X /= X.std(axis=0)"
   ]
  },
  {
   "cell_type": "code",
   "execution_count": 4,
   "metadata": {},
   "outputs": [],
   "source": [
    "# define base model\n",
    "def baseline_model():\n",
    "    # create model\n",
    "    model = Sequential()\n",
    "    model.add(Dense(40, input_dim=1, kernel_initializer='normal', activation='relu'))\n",
    "    model.add(Dense(29, kernel_initializer='normal',activation = 'sigmoid'))\n",
    "    sgd = optimizers.SGD(lr=0.01, decay=1e-6, momentum=0.9, nesterov=True)\n",
    "    model.compile(loss='mean_squared_error', optimizer=sgd)\n",
    "    return model\n",
    "\n",
    "\n",
    "# fix random seed for reproducibility\n",
    "seed = 7\n",
    "numpy.random.seed(seed)\n",
    "\n",
    "\n",
    "# evaluate baseline model with standardized dataset\n",
    "numpy.random.seed(seed)\n",
    "estimators = []\n",
    "estimators.append(('standardize', StandardScaler()))\n",
    "estimators.append(('mlp', KerasRegressor(build_fn=baseline_model, epochs=100, batch_size=1, verbose=1)))\n",
    "pipeline = Pipeline(estimators)\n",
    "\n",
    "\n",
    "# #k-fold cross validation\n",
    "# kfold = KFold(n_splits=10, random_state=seed)\n",
    "\n",
    "\n",
    "# # #result mean & standard deviation\n",
    "# results = cross_val_score(pipeline, X, Y, cv=kfold)\n",
    "# print(\"clf: %.2f (%.2f) MSE\" % (results.mean(), results.std()))"
   ]
  },
  {
   "cell_type": "code",
   "execution_count": 5,
   "metadata": {
    "scrolled": true
   },
   "outputs": [
    {
     "name": "stdout",
     "output_type": "stream",
     "text": [
      "Epoch 1/100\n",
      "730/730 [==============================] - 1s 2ms/step - loss: 0.2492\n",
      "Epoch 2/100\n",
      "730/730 [==============================] - 1s 2ms/step - loss: 0.2479\n",
      "Epoch 3/100\n",
      "730/730 [==============================] - 1s 2ms/step - loss: 0.2473\n",
      "Epoch 4/100\n",
      "730/730 [==============================] - 1s 2ms/step - loss: 0.2470\n",
      "Epoch 5/100\n",
      "730/730 [==============================] - 1s 2ms/step - loss: 0.2468\n",
      "Epoch 6/100\n",
      "730/730 [==============================] - 1s 2ms/step - loss: 0.2467\n",
      "Epoch 7/100\n",
      "730/730 [==============================] - 1s 2ms/step - loss: 0.2466\n",
      "Epoch 8/100\n",
      "730/730 [==============================] - 1s 2ms/step - loss: 0.2466\n",
      "Epoch 9/100\n",
      "730/730 [==============================] - 1s 2ms/step - loss: 0.2466\n",
      "Epoch 10/100\n",
      "730/730 [==============================] - 1s 2ms/step - loss: 0.2466\n",
      "Epoch 11/100\n",
      "730/730 [==============================] - 1s 2ms/step - loss: 0.2465\n",
      "Epoch 12/100\n",
      "730/730 [==============================] - 1s 2ms/step - loss: 0.2465\n",
      "Epoch 13/100\n",
      "730/730 [==============================] - 1s 2ms/step - loss: 0.2465\n",
      "Epoch 14/100\n",
      "730/730 [==============================] - 1s 2ms/step - loss: 0.2465\n",
      "Epoch 15/100\n",
      "730/730 [==============================] - 1s 2ms/step - loss: 0.2465\n",
      "Epoch 16/100\n",
      "730/730 [==============================] - 1s 2ms/step - loss: 0.2465\n",
      "Epoch 17/100\n",
      "730/730 [==============================] - 1s 2ms/step - loss: 0.2465\n",
      "Epoch 18/100\n",
      "730/730 [==============================] - 1s 2ms/step - loss: 0.2465\n",
      "Epoch 19/100\n",
      "730/730 [==============================] - 1s 2ms/step - loss: 0.2465\n",
      "Epoch 20/100\n",
      "730/730 [==============================] - 1s 2ms/step - loss: 0.2465\n",
      "Epoch 21/100\n",
      "730/730 [==============================] - 1s 2ms/step - loss: 0.2465\n",
      "Epoch 22/100\n",
      "730/730 [==============================] - 1s 2ms/step - loss: 0.2464\n",
      "Epoch 23/100\n",
      "730/730 [==============================] - 1s 2ms/step - loss: 0.2464\n",
      "Epoch 24/100\n",
      "730/730 [==============================] - 1s 2ms/step - loss: 0.2464\n",
      "Epoch 25/100\n",
      "730/730 [==============================] - 1s 2ms/step - loss: 0.2464\n",
      "Epoch 26/100\n",
      "730/730 [==============================] - 1s 2ms/step - loss: 0.2464\n",
      "Epoch 27/100\n",
      "730/730 [==============================] - 1s 2ms/step - loss: 0.2464\n",
      "Epoch 28/100\n",
      "730/730 [==============================] - 1s 2ms/step - loss: 0.2464\n",
      "Epoch 29/100\n",
      "730/730 [==============================] - 1s 2ms/step - loss: 0.2464\n",
      "Epoch 30/100\n",
      "730/730 [==============================] - 1s 2ms/step - loss: 0.2464\n",
      "Epoch 31/100\n",
      "730/730 [==============================] - 1s 2ms/step - loss: 0.2464\n",
      "Epoch 32/100\n",
      "730/730 [==============================] - 1s 2ms/step - loss: 0.2464\n",
      "Epoch 33/100\n",
      "730/730 [==============================] - 1s 2ms/step - loss: 0.2464\n",
      "Epoch 34/100\n",
      "730/730 [==============================] - 1s 2ms/step - loss: 0.2464\n",
      "Epoch 35/100\n",
      "730/730 [==============================] - 1s 2ms/step - loss: 0.2464\n",
      "Epoch 36/100\n",
      "730/730 [==============================] - 1s 2ms/step - loss: 0.2464\n",
      "Epoch 37/100\n",
      "730/730 [==============================] - 1s 2ms/step - loss: 0.2464\n",
      "Epoch 38/100\n",
      "730/730 [==============================] - 1s 2ms/step - loss: 0.2464\n",
      "Epoch 39/100\n",
      "730/730 [==============================] - 1s 2ms/step - loss: 0.2464\n",
      "Epoch 40/100\n",
      "730/730 [==============================] - 1s 2ms/step - loss: 0.2464\n",
      "Epoch 41/100\n",
      "730/730 [==============================] - 1s 2ms/step - loss: 0.2464\n",
      "Epoch 42/100\n",
      "730/730 [==============================] - 1s 2ms/step - loss: 0.2464\n",
      "Epoch 43/100\n",
      "730/730 [==============================] - 1s 2ms/step - loss: 0.2464\n",
      "Epoch 44/100\n",
      "730/730 [==============================] - 1s 2ms/step - loss: 0.2464\n",
      "Epoch 45/100\n",
      "730/730 [==============================] - 1s 2ms/step - loss: 0.2464\n",
      "Epoch 46/100\n",
      "730/730 [==============================] - 1s 2ms/step - loss: 0.2464\n",
      "Epoch 47/100\n",
      "730/730 [==============================] - 1s 2ms/step - loss: 0.2464\n",
      "Epoch 48/100\n",
      "730/730 [==============================] - 1s 2ms/step - loss: 0.2464\n",
      "Epoch 49/100\n",
      "730/730 [==============================] - 1s 2ms/step - loss: 0.2464\n",
      "Epoch 50/100\n",
      "730/730 [==============================] - 1s 2ms/step - loss: 0.2464\n",
      "Epoch 51/100\n",
      "730/730 [==============================] - 1s 2ms/step - loss: 0.2464\n",
      "Epoch 52/100\n",
      "730/730 [==============================] - 1s 2ms/step - loss: 0.2464\n",
      "Epoch 53/100\n",
      "730/730 [==============================] - 1s 2ms/step - loss: 0.2464\n",
      "Epoch 54/100\n",
      "730/730 [==============================] - 1s 2ms/step - loss: 0.2464\n",
      "Epoch 55/100\n",
      "730/730 [==============================] - 1s 2ms/step - loss: 0.2464\n",
      "Epoch 56/100\n",
      "730/730 [==============================] - 1s 2ms/step - loss: 0.2464\n",
      "Epoch 57/100\n",
      "730/730 [==============================] - 1s 2ms/step - loss: 0.2464\n",
      "Epoch 58/100\n",
      "730/730 [==============================] - 1s 2ms/step - loss: 0.2464\n",
      "Epoch 59/100\n",
      "730/730 [==============================] - 1s 2ms/step - loss: 0.2464\n",
      "Epoch 60/100\n",
      "730/730 [==============================] - 1s 2ms/step - loss: 0.2464\n",
      "Epoch 61/100\n",
      "730/730 [==============================] - 1s 2ms/step - loss: 0.2464\n",
      "Epoch 62/100\n",
      "730/730 [==============================] - 1s 2ms/step - loss: 0.2464\n",
      "Epoch 63/100\n",
      "730/730 [==============================] - 1s 2ms/step - loss: 0.2464\n",
      "Epoch 64/100\n",
      "730/730 [==============================] - 1s 2ms/step - loss: 0.2464\n",
      "Epoch 65/100\n",
      "730/730 [==============================] - 1s 2ms/step - loss: 0.2464\n",
      "Epoch 66/100\n",
      "730/730 [==============================] - 1s 2ms/step - loss: 0.2464\n",
      "Epoch 67/100\n",
      "730/730 [==============================] - 1s 2ms/step - loss: 0.2464\n",
      "Epoch 68/100\n",
      "730/730 [==============================] - 1s 2ms/step - loss: 0.2464\n",
      "Epoch 69/100\n",
      "730/730 [==============================] - 1s 2ms/step - loss: 0.2464\n",
      "Epoch 70/100\n",
      "730/730 [==============================] - 1s 2ms/step - loss: 0.2464\n",
      "Epoch 71/100\n",
      "730/730 [==============================] - 1s 2ms/step - loss: 0.2464\n",
      "Epoch 72/100\n",
      "730/730 [==============================] - 1s 2ms/step - loss: 0.2464\n",
      "Epoch 73/100\n",
      "730/730 [==============================] - 1s 2ms/step - loss: 0.2464\n",
      "Epoch 74/100\n",
      "730/730 [==============================] - 1s 2ms/step - loss: 0.2464\n",
      "Epoch 75/100\n",
      "730/730 [==============================] - 1s 2ms/step - loss: 0.2464\n",
      "Epoch 76/100\n",
      "730/730 [==============================] - 1s 2ms/step - loss: 0.2464\n",
      "Epoch 77/100\n",
      "730/730 [==============================] - 1s 2ms/step - loss: 0.2464\n",
      "Epoch 78/100\n",
      "730/730 [==============================] - 1s 2ms/step - loss: 0.2464\n",
      "Epoch 79/100\n",
      "730/730 [==============================] - 1s 2ms/step - loss: 0.2464\n",
      "Epoch 80/100\n",
      "730/730 [==============================] - 1s 2ms/step - loss: 0.2464\n",
      "Epoch 81/100\n",
      "730/730 [==============================] - 1s 2ms/step - loss: 0.2464\n",
      "Epoch 82/100\n",
      "730/730 [==============================] - 1s 2ms/step - loss: 0.2464\n",
      "Epoch 83/100\n",
      "730/730 [==============================] - 1s 2ms/step - loss: 0.2464\n",
      "Epoch 84/100\n",
      "730/730 [==============================] - 1s 2ms/step - loss: 0.2464\n",
      "Epoch 85/100\n",
      "730/730 [==============================] - 1s 2ms/step - loss: 0.2464\n",
      "Epoch 86/100\n",
      "730/730 [==============================] - 1s 2ms/step - loss: 0.2464\n",
      "Epoch 87/100\n",
      "730/730 [==============================] - 1s 2ms/step - loss: 0.2464\n",
      "Epoch 88/100\n",
      "730/730 [==============================] - 1s 2ms/step - loss: 0.2464\n",
      "Epoch 89/100\n",
      "730/730 [==============================] - 1s 2ms/step - loss: 0.2464\n",
      "Epoch 90/100\n",
      "730/730 [==============================] - 1s 2ms/step - loss: 0.2464\n",
      "Epoch 91/100\n",
      "730/730 [==============================] - 1s 2ms/step - loss: 0.2464\n",
      "Epoch 92/100\n",
      "730/730 [==============================] - 1s 2ms/step - loss: 0.2464\n",
      "Epoch 93/100\n",
      "730/730 [==============================] - 1s 2ms/step - loss: 0.2464\n",
      "Epoch 94/100\n",
      "730/730 [==============================] - 1s 2ms/step - loss: 0.2464\n",
      "Epoch 95/100\n",
      "730/730 [==============================] - 1s 2ms/step - loss: 0.2464\n",
      "Epoch 96/100\n",
      "730/730 [==============================] - 1s 2ms/step - loss: 0.2464\n",
      "Epoch 97/100\n",
      "730/730 [==============================] - 1s 2ms/step - loss: 0.2464\n",
      "Epoch 98/100\n",
      "730/730 [==============================] - 1s 2ms/step - loss: 0.2464\n",
      "Epoch 99/100\n"
     ]
    },
    {
     "name": "stdout",
     "output_type": "stream",
     "text": [
      "730/730 [==============================] - 1s 2ms/step - loss: 0.2464\n",
      "Epoch 100/100\n",
      "730/730 [==============================] - 1s 2ms/step - loss: 0.2464\n"
     ]
    }
   ],
   "source": [
    "clf = pipeline.fit(X, Y)"
   ]
  },
  {
   "cell_type": "code",
   "execution_count": 6,
   "metadata": {},
   "outputs": [],
   "source": [
    "pkl_filename = \"pickle_model.pkl\"\n",
    "with open(pkl_filename, 'wb') as file:\n",
    "    pickle.dump(clf, file)"
   ]
  },
  {
   "cell_type": "code",
   "execution_count": 7,
   "metadata": {},
   "outputs": [],
   "source": [
    "with open(pkl_filename, 'rb') as file:\n",
    "    model = pickle.load(file)"
   ]
  },
  {
   "cell_type": "code",
   "execution_count": 8,
   "metadata": {},
   "outputs": [
    {
     "name": "stdout",
     "output_type": "stream",
     "text": [
      "\r",
      "1/1 [==============================] - 0s 12ms/step\n"
     ]
    },
    {
     "data": {
      "text/plain": [
       "array([[0., 1., 1., 1., 0., 1., 1., 1., 0., 1., 0., 1., 0., 0., 0., 1.,\n",
       "        1., 1., 1., 1., 1., 1., 1., 1., 1., 1., 1., 1., 0.]],\n",
       "      dtype=float32)"
      ]
     },
     "execution_count": 8,
     "metadata": {},
     "output_type": "execute_result"
    }
   ],
   "source": [
    "prediction = model.predict([[20171203]])\n",
    "prediction"
   ]
  },
  {
   "cell_type": "code",
   "execution_count": 9,
   "metadata": {},
   "outputs": [
    {
     "name": "stdout",
     "output_type": "stream",
     "text": [
      "\r",
      "1/1 [==============================] - 0s 953us/step\n"
     ]
    },
    {
     "data": {
      "text/plain": [
       "array([[0., 1., 1., 1., 0., 1., 1., 1., 0., 1., 0., 1., 0., 0., 0., 1.,\n",
       "        1., 1., 1., 1., 1., 1., 1., 1., 1., 1., 1., 1., 0.]],\n",
       "      dtype=float32)"
      ]
     },
     "execution_count": 9,
     "metadata": {},
     "output_type": "execute_result"
    }
   ],
   "source": [
    "prediction = model.predict([[20150103]])\n",
    "prediction"
   ]
  },
  {
   "cell_type": "code",
   "execution_count": null,
   "metadata": {},
   "outputs": [],
   "source": []
  }
 ],
 "metadata": {
  "kernelspec": {
   "display_name": "Python 3",
   "language": "python",
   "name": "python3"
  },
  "language_info": {
   "codemirror_mode": {
    "name": "ipython",
    "version": 3
   },
   "file_extension": ".py",
   "mimetype": "text/x-python",
   "name": "python",
   "nbconvert_exporter": "python",
   "pygments_lexer": "ipython3",
   "version": "3.7.4"
  }
 },
 "nbformat": 4,
 "nbformat_minor": 2
}
